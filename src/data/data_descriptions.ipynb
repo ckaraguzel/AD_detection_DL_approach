{
 "cells": [
  {
   "cell_type": "markdown",
   "metadata": {},
   "source": [
    "# Dataset descriptions \n",
    "\n",
    "$\\textbf{STUDY: ADNI3}$\n",
    "\n",
    "$\\bullet$ Folder_name: 3_ASMP_Sagittal_AD \n",
    "\n",
    "Project/Phase: ADNI3\n",
    "\n",
    "Research Group: AD\n",
    "\n",
    "Image Description: Accelerated Sagittal MPRAGE\n",
    "\n",
    "Modality: MRI\n",
    "\n",
    "Acquisition Plane: Sagittal\n",
    "\n",
    "$\\bullet$ Folder_name: 3_ASMP_Sagittal_MCI\n",
    "\n",
    "Project/Phase: ADNI3\n",
    "\n",
    "Research Group: MCI\n",
    "\n",
    "Image Description: Accelerated Sagittal MPRAGE\n",
    "\n",
    "Modality: MRI\n",
    "\n",
    "Acquisition Plane: Sagittal\n",
    "\n",
    "\n",
    "$\\bullet$ Folder_name: 3_ASMP_Sagittal_CN\n",
    "\n",
    "Project/Phase: ADNI3\n",
    "\n",
    "Research Group: CN\n",
    "\n",
    "Image Description: Accelerated Sagittal MPRAGE\n",
    "\n",
    "Modality: MRI\n",
    "\n",
    "Acquisition Plane: Sagittal\n",
    "\n",
    "\n"
   ]
  }
 ],
 "metadata": {
  "kernelspec": {
   "display_name": ".venv",
   "language": "python",
   "name": "python3"
  },
  "language_info": {
   "name": "python",
   "version": "3.12.1"
  }
 },
 "nbformat": 4,
 "nbformat_minor": 2
}
