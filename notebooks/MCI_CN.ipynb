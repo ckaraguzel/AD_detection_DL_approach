{
 "cells": [
  {
   "cell_type": "code",
   "execution_count": 9,
   "metadata": {},
   "outputs": [],
   "source": [
    "# Run python file Create_Val_Test_Train.py to create the dataset"
   ]
  },
  {
   "cell_type": "markdown",
   "metadata": {},
   "source": [
    "## Model 1"
   ]
  },
  {
   "cell_type": "code",
   "execution_count": 2,
   "metadata": {
    "scrolled": true
   },
   "outputs": [],
   "source": [
    "import numpy as np\n",
    "# save np.load\n",
    "np_load_old = np.load\n",
    "\n",
    "# modify the default parameters of np.load\n",
    "np.load = lambda *a,**k: np_load_old(*a, allow_pickle=True, **k)\n",
    "\n",
    "\n",
    "df_train = np.load('df_train.npy')\n",
    "df_validation = np.load('df_validation.npy')\n",
    "df_test = np.load('df_test.npy')\n",
    "# restore np.load for future normal usage\n",
    "np.load = np_load_old\n",
    "import torch\n",
    "import torch.nn as nn\n",
    "import torch.optim as optim\n",
    "from torch.utils.data import DataLoader\n",
    "import torch.nn.functional as F\n",
    "\n",
    "from torch.utils.data import Dataset\n",
    "torch.manual_seed(42)\n",
    "np.random.seed(42)\n",
    "# Define your custom dataset\n",
    "class MyDataset(Dataset):\n",
    "    def __init__(self, images, labels):\n",
    "        self.images = images\n",
    "        self.labels = labels\n",
    "\n",
    "    def __len__(self):\n",
    "        return len(self.labels)\n",
    "\n",
    "    def __getitem__(self, idx):\n",
    "        return self.images[idx], self.labels[idx]\n",
    "\n",
    "X_train = df_train[:,3]\n",
    "y_train = df_train[:,2]\n",
    "# Create dataset\n",
    "train_dataset = MyDataset(X_train, y_train)\n",
    "# Create DataLoaders for training and testing\n",
    "train_dataloader = DataLoader(train_dataset, batch_size=32, shuffle=False)\n",
    "del X_train\n",
    "X_test = df_test[:,3]\n",
    "y_test = df_test[:,2]\n",
    "X_val = df_validation[:,3]\n",
    "y_val = df_validation[:,2]\n",
    "val_dataset = MyDataset(X_val, y_val)\n",
    "valloader = torch.utils.data.DataLoader(val_dataset, batch_size=32)\n",
    "testloader = torch.utils.data.DataLoader(X_test, batch_size=32)"
   ]
  },
  {
   "cell_type": "code",
   "execution_count": 3,
   "metadata": {},
   "outputs": [
    {
     "name": "stdout",
     "output_type": "stream",
     "text": [
      "Net(\n",
      "  (conv1): Conv2d(65, 2, kernel_size=(3, 3), stride=(1, 1), padding=(1, 1))\n",
      "  (fc1): Linear(in_features=30720, out_features=65, bias=True)\n",
      "  (dropout): Dropout(p=0.5, inplace=False)\n",
      "  (fc3): Linear(in_features=65, out_features=2, bias=True)\n",
      ")\n"
     ]
    }
   ],
   "source": [
    "# Simple model\n",
    "class Net(nn.Module):\n",
    "    def __init__(self):\n",
    "        super(Net, self).__init__()\n",
    "        self.conv1 = nn.Conv2d(65, 2, kernel_size=3, padding=1)\n",
    "        self.fc1 = nn.Linear(128*240, 65) \n",
    "        self.dropout = nn.Dropout(p=0.5)  # Dropout layer\n",
    "        self.fc3 = nn.Linear(65, 2)\n",
    "        \n",
    "\n",
    "    def forward(self, x):\n",
    "        x = x.view(-1, 65, 256, 240)\n",
    "        x = F.max_pool2d(F.relu(self.conv1(x)), (2, 2))\n",
    "        x = x.view(x.size(0), -1)  # Flatten layer\n",
    "        x = F.relu(self.fc1(x))\n",
    "        x = self.dropout(x)\n",
    "        x = self.fc3(x)\n",
    "        return x\n",
    "# Initialize the network and print its architecture\n",
    "model = Net()\n",
    "print(model)"
   ]
  },
  {
   "cell_type": "code",
   "execution_count": 4,
   "metadata": {
    "scrolled": true
   },
   "outputs": [
    {
     "ename": "KeyboardInterrupt",
     "evalue": "",
     "output_type": "error",
     "traceback": [
      "\u001b[1;31m---------------------------------------------------------------------------\u001b[0m",
      "\u001b[1;31mKeyboardInterrupt\u001b[0m                         Traceback (most recent call last)",
      "Cell \u001b[1;32mIn[4], line 24\u001b[0m\n\u001b[0;32m     22\u001b[0m running_loss \u001b[38;5;241m=\u001b[39m \u001b[38;5;241m0.0\u001b[39m\n\u001b[0;32m     23\u001b[0m model\u001b[38;5;241m.\u001b[39mtrain()\n\u001b[1;32m---> 24\u001b[0m \u001b[38;5;28;01mfor\u001b[39;00m i, data \u001b[38;5;129;01min\u001b[39;00m \u001b[38;5;28menumerate\u001b[39m(train_dataloader, \u001b[38;5;241m0\u001b[39m):\n\u001b[0;32m     25\u001b[0m     inputs, labels \u001b[38;5;241m=\u001b[39m data[\u001b[38;5;241m0\u001b[39m]\u001b[38;5;241m.\u001b[39mto(device), data[\u001b[38;5;241m1\u001b[39m]\u001b[38;5;241m.\u001b[39mto(device)\n\u001b[0;32m     26\u001b[0m     inputs \u001b[38;5;241m=\u001b[39m inputs\u001b[38;5;241m.\u001b[39mfloat()\n",
      "File \u001b[1;32m~\\anaconda3\\Lib\\site-packages\\torch\\utils\\data\\dataloader.py:631\u001b[0m, in \u001b[0;36m_BaseDataLoaderIter.__next__\u001b[1;34m(self)\u001b[0m\n\u001b[0;32m    628\u001b[0m \u001b[38;5;28;01mif\u001b[39;00m \u001b[38;5;28mself\u001b[39m\u001b[38;5;241m.\u001b[39m_sampler_iter \u001b[38;5;129;01mis\u001b[39;00m \u001b[38;5;28;01mNone\u001b[39;00m:\n\u001b[0;32m    629\u001b[0m     \u001b[38;5;66;03m# TODO(https://github.com/pytorch/pytorch/issues/76750)\u001b[39;00m\n\u001b[0;32m    630\u001b[0m     \u001b[38;5;28mself\u001b[39m\u001b[38;5;241m.\u001b[39m_reset()  \u001b[38;5;66;03m# type: ignore[call-arg]\u001b[39;00m\n\u001b[1;32m--> 631\u001b[0m data \u001b[38;5;241m=\u001b[39m \u001b[38;5;28mself\u001b[39m\u001b[38;5;241m.\u001b[39m_next_data()\n\u001b[0;32m    632\u001b[0m \u001b[38;5;28mself\u001b[39m\u001b[38;5;241m.\u001b[39m_num_yielded \u001b[38;5;241m+\u001b[39m\u001b[38;5;241m=\u001b[39m \u001b[38;5;241m1\u001b[39m\n\u001b[0;32m    633\u001b[0m \u001b[38;5;28;01mif\u001b[39;00m \u001b[38;5;28mself\u001b[39m\u001b[38;5;241m.\u001b[39m_dataset_kind \u001b[38;5;241m==\u001b[39m _DatasetKind\u001b[38;5;241m.\u001b[39mIterable \u001b[38;5;129;01mand\u001b[39;00m \\\n\u001b[0;32m    634\u001b[0m         \u001b[38;5;28mself\u001b[39m\u001b[38;5;241m.\u001b[39m_IterableDataset_len_called \u001b[38;5;129;01mis\u001b[39;00m \u001b[38;5;129;01mnot\u001b[39;00m \u001b[38;5;28;01mNone\u001b[39;00m \u001b[38;5;129;01mand\u001b[39;00m \\\n\u001b[0;32m    635\u001b[0m         \u001b[38;5;28mself\u001b[39m\u001b[38;5;241m.\u001b[39m_num_yielded \u001b[38;5;241m>\u001b[39m \u001b[38;5;28mself\u001b[39m\u001b[38;5;241m.\u001b[39m_IterableDataset_len_called:\n",
      "File \u001b[1;32m~\\anaconda3\\Lib\\site-packages\\torch\\utils\\data\\dataloader.py:675\u001b[0m, in \u001b[0;36m_SingleProcessDataLoaderIter._next_data\u001b[1;34m(self)\u001b[0m\n\u001b[0;32m    673\u001b[0m \u001b[38;5;28;01mdef\u001b[39;00m \u001b[38;5;21m_next_data\u001b[39m(\u001b[38;5;28mself\u001b[39m):\n\u001b[0;32m    674\u001b[0m     index \u001b[38;5;241m=\u001b[39m \u001b[38;5;28mself\u001b[39m\u001b[38;5;241m.\u001b[39m_next_index()  \u001b[38;5;66;03m# may raise StopIteration\u001b[39;00m\n\u001b[1;32m--> 675\u001b[0m     data \u001b[38;5;241m=\u001b[39m \u001b[38;5;28mself\u001b[39m\u001b[38;5;241m.\u001b[39m_dataset_fetcher\u001b[38;5;241m.\u001b[39mfetch(index)  \u001b[38;5;66;03m# may raise StopIteration\u001b[39;00m\n\u001b[0;32m    676\u001b[0m     \u001b[38;5;28;01mif\u001b[39;00m \u001b[38;5;28mself\u001b[39m\u001b[38;5;241m.\u001b[39m_pin_memory:\n\u001b[0;32m    677\u001b[0m         data \u001b[38;5;241m=\u001b[39m _utils\u001b[38;5;241m.\u001b[39mpin_memory\u001b[38;5;241m.\u001b[39mpin_memory(data, \u001b[38;5;28mself\u001b[39m\u001b[38;5;241m.\u001b[39m_pin_memory_device)\n",
      "File \u001b[1;32m~\\anaconda3\\Lib\\site-packages\\torch\\utils\\data\\_utils\\fetch.py:54\u001b[0m, in \u001b[0;36m_MapDatasetFetcher.fetch\u001b[1;34m(self, possibly_batched_index)\u001b[0m\n\u001b[0;32m     52\u001b[0m \u001b[38;5;28;01melse\u001b[39;00m:\n\u001b[0;32m     53\u001b[0m     data \u001b[38;5;241m=\u001b[39m \u001b[38;5;28mself\u001b[39m\u001b[38;5;241m.\u001b[39mdataset[possibly_batched_index]\n\u001b[1;32m---> 54\u001b[0m \u001b[38;5;28;01mreturn\u001b[39;00m \u001b[38;5;28mself\u001b[39m\u001b[38;5;241m.\u001b[39mcollate_fn(data)\n",
      "File \u001b[1;32m~\\anaconda3\\Lib\\site-packages\\torch\\utils\\data\\_utils\\collate.py:277\u001b[0m, in \u001b[0;36mdefault_collate\u001b[1;34m(batch)\u001b[0m\n\u001b[0;32m    216\u001b[0m \u001b[38;5;28;01mdef\u001b[39;00m \u001b[38;5;21mdefault_collate\u001b[39m(batch):\n\u001b[0;32m    217\u001b[0m \u001b[38;5;250m    \u001b[39m\u001b[38;5;124mr\u001b[39m\u001b[38;5;124;03m\"\"\"\u001b[39;00m\n\u001b[0;32m    218\u001b[0m \u001b[38;5;124;03m    Take in a batch of data and put the elements within the batch into a tensor with an additional outer dimension - batch size.\u001b[39;00m\n\u001b[0;32m    219\u001b[0m \n\u001b[1;32m   (...)\u001b[0m\n\u001b[0;32m    275\u001b[0m \u001b[38;5;124;03m        >>> default_collate(batch)  # Handle `CustomType` automatically\u001b[39;00m\n\u001b[0;32m    276\u001b[0m \u001b[38;5;124;03m    \"\"\"\u001b[39;00m\n\u001b[1;32m--> 277\u001b[0m     \u001b[38;5;28;01mreturn\u001b[39;00m collate(batch, collate_fn_map\u001b[38;5;241m=\u001b[39mdefault_collate_fn_map)\n",
      "File \u001b[1;32m~\\anaconda3\\Lib\\site-packages\\torch\\utils\\data\\_utils\\collate.py:144\u001b[0m, in \u001b[0;36mcollate\u001b[1;34m(batch, collate_fn_map)\u001b[0m\n\u001b[0;32m    141\u001b[0m transposed \u001b[38;5;241m=\u001b[39m \u001b[38;5;28mlist\u001b[39m(\u001b[38;5;28mzip\u001b[39m(\u001b[38;5;241m*\u001b[39mbatch))  \u001b[38;5;66;03m# It may be accessed twice, so we use a list.\u001b[39;00m\n\u001b[0;32m    143\u001b[0m \u001b[38;5;28;01mif\u001b[39;00m \u001b[38;5;28misinstance\u001b[39m(elem, \u001b[38;5;28mtuple\u001b[39m):\n\u001b[1;32m--> 144\u001b[0m     \u001b[38;5;28;01mreturn\u001b[39;00m [collate(samples, collate_fn_map\u001b[38;5;241m=\u001b[39mcollate_fn_map) \u001b[38;5;28;01mfor\u001b[39;00m samples \u001b[38;5;129;01min\u001b[39;00m transposed]  \u001b[38;5;66;03m# Backwards compatibility.\u001b[39;00m\n\u001b[0;32m    145\u001b[0m \u001b[38;5;28;01melse\u001b[39;00m:\n\u001b[0;32m    146\u001b[0m     \u001b[38;5;28;01mtry\u001b[39;00m:\n",
      "File \u001b[1;32m~\\anaconda3\\Lib\\site-packages\\torch\\utils\\data\\_utils\\collate.py:144\u001b[0m, in \u001b[0;36m<listcomp>\u001b[1;34m(.0)\u001b[0m\n\u001b[0;32m    141\u001b[0m transposed \u001b[38;5;241m=\u001b[39m \u001b[38;5;28mlist\u001b[39m(\u001b[38;5;28mzip\u001b[39m(\u001b[38;5;241m*\u001b[39mbatch))  \u001b[38;5;66;03m# It may be accessed twice, so we use a list.\u001b[39;00m\n\u001b[0;32m    143\u001b[0m \u001b[38;5;28;01mif\u001b[39;00m \u001b[38;5;28misinstance\u001b[39m(elem, \u001b[38;5;28mtuple\u001b[39m):\n\u001b[1;32m--> 144\u001b[0m     \u001b[38;5;28;01mreturn\u001b[39;00m [collate(samples, collate_fn_map\u001b[38;5;241m=\u001b[39mcollate_fn_map) \u001b[38;5;28;01mfor\u001b[39;00m samples \u001b[38;5;129;01min\u001b[39;00m transposed]  \u001b[38;5;66;03m# Backwards compatibility.\u001b[39;00m\n\u001b[0;32m    145\u001b[0m \u001b[38;5;28;01melse\u001b[39;00m:\n\u001b[0;32m    146\u001b[0m     \u001b[38;5;28;01mtry\u001b[39;00m:\n",
      "File \u001b[1;32m~\\anaconda3\\Lib\\site-packages\\torch\\utils\\data\\_utils\\collate.py:121\u001b[0m, in \u001b[0;36mcollate\u001b[1;34m(batch, collate_fn_map)\u001b[0m\n\u001b[0;32m    119\u001b[0m \u001b[38;5;28;01mif\u001b[39;00m collate_fn_map \u001b[38;5;129;01mis\u001b[39;00m \u001b[38;5;129;01mnot\u001b[39;00m \u001b[38;5;28;01mNone\u001b[39;00m:\n\u001b[0;32m    120\u001b[0m     \u001b[38;5;28;01mif\u001b[39;00m elem_type \u001b[38;5;129;01min\u001b[39;00m collate_fn_map:\n\u001b[1;32m--> 121\u001b[0m         \u001b[38;5;28;01mreturn\u001b[39;00m collate_fn_map[elem_type](batch, collate_fn_map\u001b[38;5;241m=\u001b[39mcollate_fn_map)\n\u001b[0;32m    123\u001b[0m     \u001b[38;5;28;01mfor\u001b[39;00m collate_type \u001b[38;5;129;01min\u001b[39;00m collate_fn_map:\n\u001b[0;32m    124\u001b[0m         \u001b[38;5;28;01mif\u001b[39;00m \u001b[38;5;28misinstance\u001b[39m(elem, collate_type):\n",
      "File \u001b[1;32m~\\anaconda3\\Lib\\site-packages\\torch\\utils\\data\\_utils\\collate.py:183\u001b[0m, in \u001b[0;36mcollate_numpy_array_fn\u001b[1;34m(batch, collate_fn_map)\u001b[0m\n\u001b[0;32m    180\u001b[0m \u001b[38;5;28;01mif\u001b[39;00m np_str_obj_array_pattern\u001b[38;5;241m.\u001b[39msearch(elem\u001b[38;5;241m.\u001b[39mdtype\u001b[38;5;241m.\u001b[39mstr) \u001b[38;5;129;01mis\u001b[39;00m \u001b[38;5;129;01mnot\u001b[39;00m \u001b[38;5;28;01mNone\u001b[39;00m:\n\u001b[0;32m    181\u001b[0m     \u001b[38;5;28;01mraise\u001b[39;00m \u001b[38;5;167;01mTypeError\u001b[39;00m(default_collate_err_msg_format\u001b[38;5;241m.\u001b[39mformat(elem\u001b[38;5;241m.\u001b[39mdtype))\n\u001b[1;32m--> 183\u001b[0m \u001b[38;5;28;01mreturn\u001b[39;00m collate([torch\u001b[38;5;241m.\u001b[39mas_tensor(b) \u001b[38;5;28;01mfor\u001b[39;00m b \u001b[38;5;129;01min\u001b[39;00m batch], collate_fn_map\u001b[38;5;241m=\u001b[39mcollate_fn_map)\n",
      "File \u001b[1;32m~\\anaconda3\\Lib\\site-packages\\torch\\utils\\data\\_utils\\collate.py:121\u001b[0m, in \u001b[0;36mcollate\u001b[1;34m(batch, collate_fn_map)\u001b[0m\n\u001b[0;32m    119\u001b[0m \u001b[38;5;28;01mif\u001b[39;00m collate_fn_map \u001b[38;5;129;01mis\u001b[39;00m \u001b[38;5;129;01mnot\u001b[39;00m \u001b[38;5;28;01mNone\u001b[39;00m:\n\u001b[0;32m    120\u001b[0m     \u001b[38;5;28;01mif\u001b[39;00m elem_type \u001b[38;5;129;01min\u001b[39;00m collate_fn_map:\n\u001b[1;32m--> 121\u001b[0m         \u001b[38;5;28;01mreturn\u001b[39;00m collate_fn_map[elem_type](batch, collate_fn_map\u001b[38;5;241m=\u001b[39mcollate_fn_map)\n\u001b[0;32m    123\u001b[0m     \u001b[38;5;28;01mfor\u001b[39;00m collate_type \u001b[38;5;129;01min\u001b[39;00m collate_fn_map:\n\u001b[0;32m    124\u001b[0m         \u001b[38;5;28;01mif\u001b[39;00m \u001b[38;5;28misinstance\u001b[39m(elem, collate_type):\n",
      "File \u001b[1;32m~\\anaconda3\\Lib\\site-packages\\torch\\utils\\data\\_utils\\collate.py:174\u001b[0m, in \u001b[0;36mcollate_tensor_fn\u001b[1;34m(batch, collate_fn_map)\u001b[0m\n\u001b[0;32m    172\u001b[0m     storage \u001b[38;5;241m=\u001b[39m elem\u001b[38;5;241m.\u001b[39m_typed_storage()\u001b[38;5;241m.\u001b[39m_new_shared(numel, device\u001b[38;5;241m=\u001b[39melem\u001b[38;5;241m.\u001b[39mdevice)\n\u001b[0;32m    173\u001b[0m     out \u001b[38;5;241m=\u001b[39m elem\u001b[38;5;241m.\u001b[39mnew(storage)\u001b[38;5;241m.\u001b[39mresize_(\u001b[38;5;28mlen\u001b[39m(batch), \u001b[38;5;241m*\u001b[39m\u001b[38;5;28mlist\u001b[39m(elem\u001b[38;5;241m.\u001b[39msize()))\n\u001b[1;32m--> 174\u001b[0m \u001b[38;5;28;01mreturn\u001b[39;00m torch\u001b[38;5;241m.\u001b[39mstack(batch, \u001b[38;5;241m0\u001b[39m, out\u001b[38;5;241m=\u001b[39mout)\n",
      "\u001b[1;31mKeyboardInterrupt\u001b[0m: "
     ]
    }
   ],
   "source": [
    "torch.manual_seed(42)\n",
    "np.random.seed(42)\n",
    "from torch.optim.lr_scheduler import StepLR\n",
    "\n",
    "# Initialize the network and print its architecture\n",
    "model = Net()\n",
    "# Use CUDA if available\n",
    "device = torch.device(\"cuda\" if torch.cuda.is_available() else \"cpu\")\n",
    "\n",
    "model.to(device)\n",
    "# Define loss function and optimizer\n",
    "criterion = nn.CrossEntropyLoss(weight = torch.tensor([0.5,1.0]).to(device))\n",
    "optimizer = optim.Adam(model.parameters(), lr=1e-4)\n",
    "# Define the learning rate scheduler\n",
    "scheduler = StepLR(optimizer, step_size=5, gamma=0.5)\n",
    "\n",
    "# Initialize empty lists to store losses\n",
    "train_losses = []\n",
    "\n",
    "# Training loop\n",
    "for epoch in range(15):\n",
    "    running_loss = 0.0\n",
    "    model.train()\n",
    "    for i, data in enumerate(train_dataloader, 0):\n",
    "        inputs, labels = data[0].to(device), data[1].to(device)\n",
    "        inputs = inputs.float()\n",
    "        labels = labels.type(torch.LongTensor)   # casting to long\n",
    "        inputs, labels = inputs.to(device), labels.to(device)\n",
    "        \n",
    "        optimizer.zero_grad()\n",
    "        outputs = model(inputs)\n",
    "        \n",
    "        l1_lambda = 0.0005\n",
    "        l1_norm = sum(p.abs().sum() for p in model.parameters())\n",
    "        loss = criterion(outputs, labels)\n",
    "        loss+=l1_lambda*l1_norm\n",
    "        loss.backward()\n",
    "        optimizer.step()\n",
    "\n",
    "        running_loss += loss.item()\n",
    "        # Compute training loss\n",
    "        train_losses.append(loss.item())\n",
    "\n",
    "    scheduler.step()\n",
    "    print(f'Epoch {epoch+1}, training loss: {running_loss/len(train_dataloader):.4f}')\n",
    "\n",
    "# Now without regularization\n",
    "optimizer = optim.Adam(model.parameters(), lr=5e-4)\n",
    "# Training loop\n",
    "for epoch in range(15):\n",
    "    running_loss = 0.0\n",
    "    model.train()\n",
    "    for i, data in enumerate(train_dataloader, 0):\n",
    "        inputs, labels = data[0].to(device), data[1].to(device)\n",
    "        inputs = inputs.float()\n",
    "        labels = labels.type(torch.LongTensor)   # casting to long\n",
    "        inputs, labels = inputs.to(device), labels.to(device)\n",
    "\n",
    "        optimizer.zero_grad()\n",
    "        outputs = model(inputs)\n",
    "        \n",
    "        loss = criterion(outputs, labels)\n",
    "        loss.backward()\n",
    "        optimizer.step()\n",
    "\n",
    "        running_loss += loss.item()\n",
    "        # Compute training loss\n",
    "        train_losses.append(loss.item())\n",
    "    print(f'Epoch {epoch+1}, training loss: {running_loss/len(train_dataloader):.4f}')\n",
    "\n",
    "print('Finished Training')"
   ]
  },
  {
   "cell_type": "code",
   "execution_count": null,
   "metadata": {},
   "outputs": [],
   "source": [
    "\n",
    "from sklearn.metrics import confusion_matrix\n",
    "\n",
    "\n",
    "def find_optimal_threshold(predictions, y_test):\n",
    "    min_sum = float('inf')\n",
    "    optimal_threshold = 0.5\n",
    "    # Iterate over possible thresholds from 0 to 1\n",
    "    for threshold in np.arange(0.3, 0.8, 0.001):\n",
    "        # Apply threshold\n",
    "        preds = (np.array(predictions)[:,1] > threshold).astype(int)\n",
    "        # Compute confusion matrix\n",
    "        cm = confusion_matrix(y_test, preds)\n",
    "        # Compute sum of off-diagonal elements\n",
    "        off_diagonal_sum = 164 - np.trace(cm)\n",
    "        # Update optimal threshold if this threshold is better\n",
    "        if off_diagonal_sum < min_sum and cm[1][1]/np.sum(cm[1]) >=0.5:\n",
    "            min_sum = off_diagonal_sum\n",
    "            optimal_threshold = threshold\n",
    "\n",
    "    return optimal_threshold\n",
    "model.eval()  # Set the model to evaluation mode\n",
    "predictions = []\n",
    "output = []\n",
    "with torch.no_grad():\n",
    "    for data in valloader:\n",
    "        outputs = model(data[0].float().to(device)).to(device)\n",
    "        predicted = torch.softmax(outputs, dim = 1) # Apply a threshold\n",
    "        predictions.extend(predicted.tolist())\n",
    "        output.extend(outputs.tolist())\n",
    "\n",
    "        \n",
    "optimal_threshold = find_optimal_threshold(predictions, y_val.astype(int))\n",
    "# Calculate the confusion matrix\n",
    "mcm = confusion_matrix(y_val.astype(int), (np.array(predictions)[:,1]>optimal_threshold).astype(int))\n",
    "\n",
    "print('Confusion Matrix:')\n",
    "for i, matrix in enumerate(mcm):\n",
    "    print(f'Class {i}:')\n",
    "    print(matrix)\n",
    "\n",
    "\n",
    "predictions = []\n",
    "output = []\n",
    "with torch.no_grad():\n",
    "    for data in testloader:\n",
    "        outputs = model(data.float().to(device)).to(device)\n",
    "        predicted = torch.softmax(outputs, dim = 1) # Apply a threshold\n",
    "        predictions.extend(predicted.tolist())\n",
    "        output.extend(outputs.tolist())\n",
    "# Calculate the confusion matrix\n",
    "mcm = confusion_matrix(y_test.astype(int), (np.array(predictions)[:,1]>optimal_threshold).astype(int))\n",
    "\n",
    "print('Confusion Matrix:')\n",
    "for i, matrix in enumerate(mcm):\n",
    "    print(f'Class {i}:')\n",
    "    print(matrix)"
   ]
  },
  {
   "cell_type": "code",
   "execution_count": null,
   "metadata": {},
   "outputs": [],
   "source": []
  },
  {
   "cell_type": "code",
   "execution_count": null,
   "metadata": {},
   "outputs": [],
   "source": [
    "\n",
    "from sklearn.metrics import roc_auc_score\n",
    "\n",
    "# Convert tensors to numpy arrays for sklearn\n",
    "outputs_np = (np.array(predictions)[:,1]>optimal_threshold).astype(int)\n",
    "labels_np = y_test.astype(int)"
   ]
  },
  {
   "cell_type": "code",
   "execution_count": null,
   "metadata": {},
   "outputs": [],
   "source": [
    "from sklearn.metrics import accuracy_score\n",
    "from sklearn.metrics import roc_auc_score\n",
    "from sklearn.metrics import confusion_matrix\n",
    "from sklearn.metrics import precision_recall_fscore_support as score\n",
    "# Calculate and print the accuracy of the model\n",
    "accuracy = accuracy_score(labels_np, outputs_np)\n",
    "print(\"Accuracy: %.2f%%\" % (accuracy * 100.0))\n",
    "\n",
    "# Calculate and print the ROC AUC score\n",
    "print(\"ROC AUC score:\", roc_auc_score(labels_np, outputs_np))\n",
    "\n",
    "# Calculate and print the confusion matrix\n",
    "print(\"Confusion matrix:\\n\", confusion_matrix(labels_np, outputs_np))\n",
    "\n",
    "# Calculate precision, recall, F1 score\n",
    "precision, recall, fscore, _ = score(labels_np, outputs_np)\n",
    "print(\"Precision, Recall, Fscore:\", precision, recall, fscore)"
   ]
  },
  {
   "cell_type": "code",
   "execution_count": null,
   "metadata": {},
   "outputs": [],
   "source": [
    "optimal_threshold"
   ]
  },
  {
   "cell_type": "code",
   "execution_count": 13,
   "metadata": {},
   "outputs": [
    {
     "data": {
      "image/png": "[encoded data removed]",
      "text/plain": [
       "<Figure size 640x480 with 1 Axes>"
      ]
     },
     "metadata": {},
     "output_type": "display_data"
    }
   ],
   "source": [
    "import matplotlib.pyplot as plt\n",
    "import seaborn as sns\n",
    "import pandas as pd\n",
    "\n",
    "# Suppose this is your DataFrame\n",
    "df = pd.DataFrame({\n",
    "    'c1': df_test[:,0],  \n",
    "    'c2': outputs_np \n",
    "})\n",
    "# Convert 'c2' column to string type\n",
    "df['c2'] = df['c2'].astype(str)\n",
    "# Create a countplot\n",
    "sns.countplot(x='c1', hue='c2', data=df)\n",
    "\n",
    "# Show the plot\n",
    "plt.show()"
   ]
  },
  {
   "cell_type": "code",
   "execution_count": null,
   "metadata": {},
   "outputs": [],
   "source": []
  },
  {
   "cell_type": "code",
   "execution_count": 7,
   "metadata": {},
   "outputs": [],
   "source": [
    "# MCI vs CN -- ADNI dataset"
   ]
  },
  {
   "cell_type": "code",
   "execution_count": 8,
   "metadata": {},
   "outputs": [],
   "source": [
    "# Get the probability output and then add two features to xgboost model and try"
   ]
  },
  {
   "cell_type": "markdown",
   "metadata": {},
   "source": [
    "## Model 2"
   ]
  },
  {
   "cell_type": "markdown",
   "metadata": {},
   "source": [
    "### Data Prep for model 2. Can be skipped"
   ]
  },
  {
   "cell_type": "code",
   "execution_count": null,
   "metadata": {},
   "outputs": [],
   "source": [
    "import torch\n",
    "import torch.nn as nn\n",
    "import torch.optim as optim\n",
    "from torch.utils.data import DataLoader\n",
    "import torch.nn.functional as F\n",
    "\n",
    "from torch.utils.data import Dataset\n",
    "class MyModel(nn.Module):\n",
    "    def __init__(self, original_model):\n",
    "        super(MyModel, self).__init__()\n",
    "        self.conv1 = original_model.conv1\n",
    "        self.fc1 = original_model.fc1\n",
    "\n",
    "    def forward(self, x):\n",
    "        x = x.view(-1, 65, 256, 240)\n",
    "        x = F.max_pool2d(F.relu(self.conv1(x)), (2, 2))\n",
    "        x = x.view(x.size(0), -1)  # Flatten layer\n",
    "        x = F.relu(self.fc1(x))\n",
    "        return x\n",
    "\n",
    "# Create the new model\n",
    "new_model = MyModel(model)"
   ]
  },
  {
   "cell_type": "code",
   "execution_count": 10,
   "metadata": {},
   "outputs": [],
   "source": [
    "outputs = [] #stores one feature/value for each image for each patient.  Shape is (*,65).\n",
    "labels_train = []\n",
    "for data in train_dataloader:\n",
    "    input_data = data[0].float()\n",
    "    labels_train.append(data[1])\n",
    "    output = new_model(input_data.to(device))\n",
    "    outputs.append(output.detach().cpu().numpy()) \n",
    "flattened_outputs = np.concatenate(outputs, axis=0)\n",
    "flattened_labels = np.concatenate(labels_train, axis = 0)\n",
    "del outputs, output\n",
    "np.save('vectorized_train.npy', flattened_outputs)\n",
    "np.save('vectorized_tr_labels.npy', flattened_labels)\n",
    "\n",
    "outputs = [] #stores one feature/value for each image for each patient.  Shape is (*,65).\n",
    "labels_val = []\n",
    "for data in valloader:\n",
    "    input_data = data[0].float()\n",
    "    labels_val.append(data[1])\n",
    "    output = new_model(input_data.to(device))\n",
    "    outputs.append(output.detach().cpu().numpy()) \n",
    "flattened_outputs = np.concatenate(outputs, axis=0)\n",
    "flattened_labels = np.concatenate(labels_val, axis = 0)\n",
    "del outputs, output\n",
    "np.save('vectorized_val.npy', flattened_outputs)\n",
    "np.save('vectorized_val_labels.npy', flattened_labels)\n",
    "\n",
    "outputs = [] #stores one feature/value for each image for each patient.  Shape is (*,65).\n",
    "labels_train = []\n",
    "for data in testloader:\n",
    "    input_data = data.float()\n",
    "    output = new_model(input_data.to(device))\n",
    "    outputs.append(output.detach().cpu().numpy()) \n",
    "flattened_outputs = np.concatenate(outputs, axis=0)\n",
    "del outputs, output\n",
    "np.save('vectorized_test.npy', flattened_outputs)\n",
    "np.save('y_test.npy', y_test.astype(int))"
   ]
  },
  {
   "cell_type": "code",
   "execution_count": 17,
   "metadata": {},
   "outputs": [],
   "source": []
  },
  {
   "cell_type": "code",
   "execution_count": 18,
   "metadata": {},
   "outputs": [],
   "source": []
  },
  {
   "cell_type": "markdown",
   "metadata": {},
   "source": [
    "### This is the second model. Run from here"
   ]
  },
  {
   "cell_type": "code",
   "execution_count": 5,
   "metadata": {},
   "outputs": [],
   "source": [
    "import numpy as np\n",
    "from xgboost import XGBClassifier\n",
    "from sklearn.model_selection import train_test_split\n",
    "from imblearn.over_sampling import RandomOverSampler\n",
    "from sklearn.metrics import accuracy_score\n",
    "from sklearn.metrics import roc_auc_score\n",
    "from sklearn.metrics import confusion_matrix\n",
    "from sklearn.metrics import precision_recall_fscore_support as score"
   ]
  },
  {
   "cell_type": "code",
   "execution_count": 6,
   "metadata": {
    "scrolled": true
   },
   "outputs": [],
   "source": [
    "X_train = np.load('vectorized_train.npy')\n",
    "y_train = np.load('vectorized_tr_labels.npy')\n",
    "X_val = np.load('vectorized_val.npy')\n",
    "y_val = np.load('vectorized_val_labels.npy')\n",
    "X_test = np.load('vectorized_test.npy')\n",
    "y_test = np.load('y_test.npy')\n",
    "# save np.load\n",
    "np_load_old = np.load\n",
    "\n",
    "# modify the default parameters of np.load\n",
    "np.load = lambda *a,**k: np_load_old(*a, allow_pickle=True, **k)\n",
    "\n",
    "\n",
    "df_train = np.load('df_train.npy')\n",
    "df_validation = np.load('df_validation.npy')\n",
    "df_test = np.load('df_test.npy')\n",
    "# restore np.load for future normal usage\n",
    "np.load = np_load_old\n",
    "# Convert the 'sex' column from string to int\n",
    "df_train[:,0] = (df_train[:,0]=='M').astype(int)\n",
    "df_validation[:,0] = (df_validation[:,0]=='M').astype(int)\n",
    "df_test[:,0] = (df_test[:,0]=='M').astype(int)\n",
    "# Add the 'sex' and 'age' columns to your X_train and X_val\n",
    "X_train = np.hstack((X_train, df_train[:,0:2]))\n",
    "X_val = np.hstack((X_val, df_validation[:,0:2]))\n",
    "X_test = np.hstack((X_test, df_test[:,0:2]))"
   ]
  },
  {
   "cell_type": "code",
   "execution_count": 7,
   "metadata": {
    "scrolled": true
   },
   "outputs": [
    {
     "name": "stderr",
     "output_type": "stream",
     "text": [
      "C:\\Users\\thetu\\anaconda3\\Lib\\site-packages\\sklearn\\model_selection\\_search.py:305: UserWarning: The total space of parameters 27 is smaller than n_iter=100. Running 27 iterations. For exhaustive searches, use GridSearchCV.\n",
      "  warnings.warn(\n"
     ]
    },
    {
     "name": "stdout",
     "output_type": "stream",
     "text": [
      "Fitting 5 folds for each of 27 candidates, totalling 135 fits\n",
      "{'n_estimators': 100, 'max_depth': 5, 'learning_rate': 0.01}\n",
      "[0]\tvalidation_0-logloss:0.68638\n",
      "[1]\tvalidation_0-logloss:0.68015\n",
      "[2]\tvalidation_0-logloss:0.67383\n",
      "[3]\tvalidation_0-logloss:0.66776\n",
      "[4]\tvalidation_0-logloss:0.66166\n",
      "[5]\tvalidation_0-logloss:0.65558\n",
      "[6]\tvalidation_0-logloss:0.64983\n",
      "[7]\tvalidation_0-logloss:0.64379\n",
      "[8]\tvalidation_0-logloss:0.63798\n",
      "[9]\tvalidation_0-logloss:0.63246\n",
      "[10]\tvalidation_0-logloss:0.62688\n",
      "[11]\tvalidation_0-logloss:0.62142\n",
      "[12]\tvalidation_0-logloss:0.61639\n",
      "[13]\tvalidation_0-logloss:0.61130\n",
      "[14]\tvalidation_0-logloss:0.60652\n",
      "[15]\tvalidation_0-logloss:0.60145\n",
      "[16]\tvalidation_0-logloss:0.59659\n",
      "[17]\tvalidation_0-logloss:0.59195\n",
      "[18]\tvalidation_0-logloss:0.58733\n",
      "[19]\tvalidation_0-logloss:0.58256\n",
      "[20]\tvalidation_0-logloss:0.57843\n",
      "[21]\tvalidation_0-logloss:0.57383\n",
      "[22]\tvalidation_0-logloss:0.56951\n",
      "[23]\tvalidation_0-logloss:0.56510\n",
      "[24]\tvalidation_0-logloss:0.56109\n",
      "[25]\tvalidation_0-logloss:0.55700\n",
      "[26]\tvalidation_0-logloss:0.55297\n",
      "[27]\tvalidation_0-logloss:0.54905\n",
      "[28]\tvalidation_0-logloss:0.54523\n",
      "[29]\tvalidation_0-logloss:0.54146\n",
      "[30]\tvalidation_0-logloss:0.53785\n",
      "[31]\tvalidation_0-logloss:0.53418\n",
      "[32]\tvalidation_0-logloss:0.53040\n",
      "[33]\tvalidation_0-logloss:0.52687\n",
      "[34]\tvalidation_0-logloss:0.52340\n",
      "[35]\tvalidation_0-logloss:0.52011\n",
      "[36]\tvalidation_0-logloss:0.51661\n",
      "[37]\tvalidation_0-logloss:0.51342\n",
      "[38]\tvalidation_0-logloss:0.51020\n"
     ]
    },
    {
     "name": "stderr",
     "output_type": "stream",
     "text": [
      "C:\\Users\\thetu\\anaconda3\\Lib\\site-packages\\xgboost\\sklearn.py:889: UserWarning: `eval_metric` in `fit` method is deprecated for better compatibility with scikit-learn, use `eval_metric` in constructor or`set_params` instead.\n",
      "  warnings.warn(\n"
     ]
    },
    {
     "name": "stdout",
     "output_type": "stream",
     "text": [
      "[39]\tvalidation_0-logloss:0.50676\n",
      "[40]\tvalidation_0-logloss:0.50388\n",
      "[41]\tvalidation_0-logloss:0.50066\n",
      "[42]\tvalidation_0-logloss:0.49776\n",
      "[43]\tvalidation_0-logloss:0.49483\n",
      "[44]\tvalidation_0-logloss:0.49196\n",
      "[45]\tvalidation_0-logloss:0.48887\n",
      "[46]\tvalidation_0-logloss:0.48638\n",
      "[47]\tvalidation_0-logloss:0.48347\n",
      "[48]\tvalidation_0-logloss:0.48081\n",
      "[49]\tvalidation_0-logloss:0.47822\n",
      "[50]\tvalidation_0-logloss:0.47539\n",
      "[51]\tvalidation_0-logloss:0.47304\n",
      "[52]\tvalidation_0-logloss:0.47031\n",
      "[53]\tvalidation_0-logloss:0.46807\n",
      "[54]\tvalidation_0-logloss:0.46539\n",
      "[55]\tvalidation_0-logloss:0.46297\n",
      "[56]\tvalidation_0-logloss:0.46067\n",
      "[57]\tvalidation_0-logloss:0.45830\n",
      "[58]\tvalidation_0-logloss:0.45604\n",
      "[59]\tvalidation_0-logloss:0.45384\n",
      "[60]\tvalidation_0-logloss:0.45142\n",
      "[61]\tvalidation_0-logloss:0.44928\n",
      "[62]\tvalidation_0-logloss:0.44716\n",
      "[63]\tvalidation_0-logloss:0.44494\n",
      "[64]\tvalidation_0-logloss:0.44308\n",
      "[65]\tvalidation_0-logloss:0.44085\n",
      "[66]\tvalidation_0-logloss:0.43895\n",
      "[67]\tvalidation_0-logloss:0.43702\n",
      "[68]\tvalidation_0-logloss:0.43512\n",
      "[69]\tvalidation_0-logloss:0.43311\n",
      "[70]\tvalidation_0-logloss:0.43137\n",
      "[71]\tvalidation_0-logloss:0.42945\n",
      "[72]\tvalidation_0-logloss:0.42777\n",
      "[73]\tvalidation_0-logloss:0.42584\n",
      "[74]\tvalidation_0-logloss:0.42438\n",
      "[75]\tvalidation_0-logloss:0.42251\n",
      "[76]\tvalidation_0-logloss:0.42097\n",
      "[77]\tvalidation_0-logloss:0.41930\n",
      "[78]\tvalidation_0-logloss:0.41781\n",
      "[79]\tvalidation_0-logloss:0.41640\n",
      "[80]\tvalidation_0-logloss:0.41488\n",
      "[81]\tvalidation_0-logloss:0.41331\n",
      "[82]\tvalidation_0-logloss:0.41171\n",
      "[83]\tvalidation_0-logloss:0.41047\n",
      "[84]\tvalidation_0-logloss:0.40907\n",
      "[85]\tvalidation_0-logloss:0.40741\n",
      "[86]\tvalidation_0-logloss:0.40600\n",
      "[87]\tvalidation_0-logloss:0.40460\n",
      "[88]\tvalidation_0-logloss:0.40334\n",
      "[89]\tvalidation_0-logloss:0.40158\n",
      "[90]\tvalidation_0-logloss:0.40030\n",
      "[91]\tvalidation_0-logloss:0.39899\n",
      "[92]\tvalidation_0-logloss:0.39776\n",
      "[93]\tvalidation_0-logloss:0.39629\n",
      "[94]\tvalidation_0-logloss:0.39513\n",
      "[95]\tvalidation_0-logloss:0.39387\n",
      "[96]\tvalidation_0-logloss:0.39266\n",
      "[97]\tvalidation_0-logloss:0.39127\n",
      "[98]\tvalidation_0-logloss:0.39021\n",
      "[99]\tvalidation_0-logloss:0.38910\n"
     ]
    }
   ],
   "source": [
    "from sklearn.model_selection import RandomizedSearchCV\n",
    "np.random.seed(42)\n",
    "# Your data and labels\n",
    "data = np.vstack((X_train,X_val))\n",
    "labels = np.hstack((y_train,y_val))\n",
    "\n",
    "# Split the data into training and testing sets first\n",
    "data_train, data_test, labels_train, labels_test = train_test_split(data, labels, test_size=0.3, random_state=42)\n",
    "\n",
    "scale_pos_weight = sum(labels_train == 0) / sum(labels_train == 1)\n",
    "\n",
    "# Define the XGBoost model\n",
    "model = XGBClassifier(\n",
    "    objective='binary:logistic',  # Objective function for binary classification\n",
    "    scale_pos_weight = scale_pos_weight,\n",
    "    random_state=42  # Random seed\n",
    ")\n",
    "\n",
    "# Define the parameter grid for RandomSearch\n",
    "param_grid = {\n",
    "    'max_depth': [2, 3, 5],  # Maximum depth of the trees\n",
    "    'learning_rate': [0.001, 0.005, 0.01],  # Learning rate (eta)\n",
    "    'n_estimators': [50, 75, 100]  # Number of training rounds\n",
    "}\n",
    "\n",
    "# Initialize RandomSearch\n",
    "random_search = RandomizedSearchCV(model, param_distributions=param_grid, n_iter=100, scoring='roc_auc', n_jobs=-1, cv=5, verbose=3)\n",
    "\n",
    "# Perform RandomSearch\n",
    "random_search.fit(data_train, labels_train)\n",
    "\n",
    "# Print the best parameters found\n",
    "print(random_search.best_params_)\n",
    "\n",
    "# Train the model with early stopping using the best found parameters\n",
    "model = random_search.best_estimator_\n",
    "eval_set = [(data_test, labels_test)]  # Validation set for early stopping\n",
    "model.fit(data_train, labels_train, eval_metric=\"logloss\", eval_set=eval_set)\n",
    "\n",
    "# Make predictions on the test set\n",
    "preds_prob = model.predict_proba(data_test)\n"
   ]
  },
  {
   "cell_type": "code",
   "execution_count": 8,
   "metadata": {},
   "outputs": [
    {
     "name": "stdout",
     "output_type": "stream",
     "text": [
      "Accuracy: 87.41%\n"
     ]
    }
   ],
   "source": [
    "from sklearn.metrics import confusion_matrix\n",
    "# Make predictions on the test set\n",
    "def find_optimal_threshold(predictions, y_test):\n",
    "    min_sum = float('inf')\n",
    "    optimal_threshold = 0.5\n",
    "\n",
    "    # Iterate over possible thresholds from 0 to 1\n",
    "    for threshold in np.arange(0.3, 0.8, 0.001):\n",
    "        # Apply threshold\n",
    "        preds = (np.array(predictions)[:,1] > threshold).astype(int)\n",
    "\n",
    "        # Compute confusion matrix\n",
    "        cm = confusion_matrix(y_test, preds)\n",
    "\n",
    "        # Compute sum of off-diagonal elements\n",
    "        off_diagonal_sum = 164 - np.trace(cm)\n",
    "        #print(cm)\n",
    "        # Update optimal threshold if this threshold is better\n",
    "        if off_diagonal_sum < min_sum and cm[1][1]/np.sum(cm[1]) >0.5:\n",
    "            min_sum = off_diagonal_sum\n",
    "            optimal_threshold = threshold\n",
    "\n",
    "    return optimal_threshold\n",
    "\n",
    "threshold = find_optimal_threshold(preds_prob, labels_test)\n",
    "preds = (preds_prob[:, 1]> threshold).astype(int)\n",
    "\n",
    "# Calculate the accuracy of the model\n",
    "accuracy = accuracy_score(labels_test, preds)\n",
    "print(\"Accuracy: %.2f%%\" % (accuracy * 100.0))"
   ]
  },
  {
   "cell_type": "code",
   "execution_count": 9,
   "metadata": {},
   "outputs": [
    {
     "data": {
      "text/plain": [
       "0.8700607902735563"
      ]
     },
     "execution_count": 9,
     "metadata": {},
     "output_type": "execute_result"
    }
   ],
   "source": [
    "from sklearn.metrics import roc_auc_score\n",
    "roc_auc_score(labels_test, preds)"
   ]
  },
  {
   "cell_type": "code",
   "execution_count": 10,
   "metadata": {},
   "outputs": [
    {
     "data": {
      "text/plain": [
       "array([[83, 11],\n",
       "       [ 7, 42]], dtype=int64)"
      ]
     },
     "execution_count": 10,
     "metadata": {},
     "output_type": "execute_result"
    }
   ],
   "source": [
    "from sklearn.metrics import confusion_matrix\n",
    "confusion_matrix(labels_test, preds)"
   ]
  },
  {
   "cell_type": "code",
   "execution_count": 11,
   "metadata": {},
   "outputs": [
    {
     "data": {
      "text/plain": [
       "(array([0.92222222, 0.79245283]),\n",
       " array([0.88297872, 0.85714286]),\n",
       " array([0.90217391, 0.82352941]))"
      ]
     },
     "execution_count": 11,
     "metadata": {},
     "output_type": "execute_result"
    }
   ],
   "source": [
    "from sklearn.metrics import precision_recall_fscore_support as score\n",
    "# Calculate precision, recall, F1 score\n",
    "precision, recall, fscore, _ = score(labels_test, preds)\n",
    "precision, recall, fscore"
   ]
  },
  {
   "cell_type": "code",
   "execution_count": 12,
   "metadata": {},
   "outputs": [
    {
     "data": {
      "text/plain": [
       "0.338"
      ]
     },
     "execution_count": 12,
     "metadata": {},
     "output_type": "execute_result"
    }
   ],
   "source": [
    "threshold"
   ]
  },
  {
   "cell_type": "code",
   "execution_count": 13,
   "metadata": {},
   "outputs": [
    {
     "name": "stdout",
     "output_type": "stream",
     "text": [
      "Accuracy: 63.10%\n"
     ]
    },
    {
     "data": {
      "text/plain": [
       "0.6071211199026172"
      ]
     },
     "execution_count": 13,
     "metadata": {},
     "output_type": "execute_result"
    }
   ],
   "source": [
    "pred_test = model.predict_proba(X_test)\n",
    "preds = (pred_test[:, 1]> threshold).astype(int)\n",
    "\n",
    "# Calculate the accuracy of the model\n",
    "accuracy = accuracy_score(y_test, preds)\n",
    "print(\"Accuracy: %.2f%%\" % (accuracy * 100.0))\n",
    "roc_auc_score(y_test, preds)"
   ]
  },
  {
   "cell_type": "code",
   "execution_count": 14,
   "metadata": {},
   "outputs": [
    {
     "data": {
      "text/plain": [
       "array([[37, 16],\n",
       "       [15, 16]], dtype=int64)"
      ]
     },
     "execution_count": 14,
     "metadata": {},
     "output_type": "execute_result"
    }
   ],
   "source": [
    "confusion_matrix(y_test, preds)"
   ]
  },
  {
   "cell_type": "code",
   "execution_count": 15,
   "metadata": {},
   "outputs": [
    {
     "data": {
      "text/plain": [
       "(array([0.71153846, 0.5       ]),\n",
       " array([0.69811321, 0.51612903]),\n",
       " array([0.7047619 , 0.50793651]))"
      ]
     },
     "execution_count": 15,
     "metadata": {},
     "output_type": "execute_result"
    }
   ],
   "source": [
    "# Calculate precision, recall, F1 score\n",
    "precision, recall, fscore, _ = score(y_test, preds)\n",
    "precision, recall, fscore"
   ]
  },
  {
   "cell_type": "code",
   "execution_count": 17,
   "metadata": {},
   "outputs": [
    {
     "data": {
      "image/png": "[encoded data removed]",
      "text/plain": [
       "<Figure size 640x480 with 1 Axes>"
      ]
     },
     "metadata": {},
     "output_type": "display_data"
    }
   ],
   "source": [
    "import matplotlib.pyplot as plt\n",
    "import seaborn as sns\n",
    "import pandas as pd\n",
    "\n",
    "# create the dataframe\n",
    "df = pd.DataFrame({\n",
    "    'c1': df_test[:,0],  \n",
    "    'c2': preds \n",
    "})\n",
    "# Convert 'c2' column to string type\n",
    "df['c2'] = df['c2'].astype(str)\n",
    "# Create a countplot\n",
    "sns.countplot(x='c1', hue='c2', data=df)\n",
    "# Replace the x-axis labels\n",
    "plt.xticks([0, 1], ['M', 'F'])\n",
    "\n",
    "# Show the plot\n",
    "plt.show()"
   ]
  },
  {
   "cell_type": "markdown",
   "metadata": {},
   "source": [
    "## Model 3"
   ]
  },
  {
   "cell_type": "markdown",
   "metadata": {},
   "source": [
    "### Data prep"
   ]
  },
  {
   "cell_type": "code",
   "execution_count": 81,
   "metadata": {},
   "outputs": [],
   "source": [
    "# Import datasets\n",
    "import numpy as np\n",
    "import torch\n",
    "import torch.nn as nn\n",
    "import torch.optim as optim\n",
    "from torch.utils.data import DataLoader\n",
    "import torch.nn.functional as F\n",
    "from sklearn.metrics import confusion_matrix\n",
    "from torch.utils.data import Dataset\n",
    "from torch.optim.lr_scheduler import StepLR\n",
    "\n",
    "torch.manual_seed(42)\n",
    "np.random.seed(42)\n",
    "\n",
    "# Define your custom dataset\n",
    "class MyDataset(Dataset):\n",
    "    def __init__(self, images, labels):\n",
    "        self.images = images\n",
    "        self.labels = labels\n",
    "\n",
    "    def __len__(self):\n",
    "        return len(self.labels)\n",
    "\n",
    "    def __getitem__(self, idx):\n",
    "        return self.images[idx], self.labels[idx]\n",
    "\n",
    "\n",
    "# Simple model\n",
    "class Net(nn.Module):\n",
    "    def __init__(self):\n",
    "        super(Net, self).__init__()\n",
    "        self.conv1 = nn.Conv2d(65, 2, kernel_size=3, padding=1)\n",
    "        self.fc1 = nn.Linear(128*240, 65) \n",
    "        self.dropout = nn.Dropout(p=0.5)  # Dropout layer\n",
    "        self.fc3 = nn.Linear(65, 2)\n",
    "\n",
    "    def forward(self, x):\n",
    "        x = x.view(-1, 65, 256, 240)\n",
    "        x = F.max_pool2d(F.relu(self.conv1(x)), (2, 2))\n",
    "        x = x.view(x.size(0), -1)  # Flatten layer\n",
    "        x = F.relu(self.fc1(x))\n",
    "        x = self.dropout(x)\n",
    "        x = self.fc3(x)\n",
    "        return x\n",
    "# Initialize the network and print its architecture\n",
    "model = Net()"
   ]
  },
  {
   "cell_type": "code",
   "execution_count": 82,
   "metadata": {
    "scrolled": true
   },
   "outputs": [
    {
     "name": "stdout",
     "output_type": "stream",
     "text": [
      "Epoch 1, training loss: 3.1844\n",
      "Epoch 2, training loss: 2.3908\n",
      "Epoch 3, training loss: 1.7668\n",
      "Epoch 4, training loss: 1.3303\n",
      "Epoch 5, training loss: 1.0994\n",
      "Epoch 6, training loss: 0.9849\n",
      "Epoch 7, training loss: 0.9217\n",
      "Epoch 8, training loss: 0.8837\n",
      "Epoch 9, training loss: 0.8588\n",
      "Epoch 10, training loss: 0.8528\n",
      "Epoch 11, training loss: 0.8119\n",
      "Epoch 12, training loss: 0.8082\n",
      "Epoch 13, training loss: 0.7965\n",
      "Epoch 14, training loss: 0.7730\n",
      "Epoch 15, training loss: 0.7882\n",
      "Epoch 1, training loss: 0.6745\n",
      "Epoch 2, training loss: 0.6380\n",
      "Epoch 3, training loss: 0.5317\n",
      "Epoch 4, training loss: 0.4831\n",
      "Epoch 5, training loss: 0.3654\n",
      "Epoch 6, training loss: 0.3228\n",
      "Epoch 7, training loss: 0.2624\n",
      "Epoch 8, training loss: 0.2085\n",
      "Epoch 9, training loss: 0.2725\n",
      "Epoch 10, training loss: 0.2122\n",
      "Epoch 11, training loss: 0.1887\n",
      "Epoch 12, training loss: 0.1904\n",
      "Epoch 13, training loss: 0.2461\n",
      "Epoch 14, training loss: 0.1369\n",
      "Epoch 15, training loss: 0.1002\n"
     ]
    }
   ],
   "source": [
    "\n",
    "# Extract the features and labels from the training data\n",
    "X_train = df_train[:,3]\n",
    "y_train = df_train[:,2]\n",
    "\n",
    "# Create a dataset from the training data\n",
    "train_dataset = MyDataset(X_train, y_train)\n",
    "\n",
    "# Create a DataLoader for the training data\n",
    "train_dataloader = DataLoader(train_dataset, batch_size=32, shuffle=False)\n",
    "\n",
    "# Delete the original training features to save memory\n",
    "del X_train\n",
    "\n",
    "# Extract the features and labels from the test and validation data\n",
    "X_test = df_test[:,3]\n",
    "y_test = df_test[:,2]\n",
    "X_val = df_validation[:,3]\n",
    "y_val = df_validation[:,2]\n",
    "\n",
    "# Create datasets from the validation and test data\n",
    "val_dataset = MyDataset(X_val, y_val)\n",
    "valloader = torch.utils.data.DataLoader(val_dataset, batch_size=32)\n",
    "testloader = torch.utils.data.DataLoader(X_test, batch_size=32)\n",
    "\n",
    "# Initialize the network\n",
    "model = Net()\n",
    "torch.manual_seed(42)\n",
    "np.random.seed(42)\n",
    "# Use CUDA if available\n",
    "device = torch.device(\"cuda\" if torch.cuda.is_available() else \"cpu\")\n",
    "\n",
    "# Move the model to the device\n",
    "model.to(device)\n",
    "\n",
    "# Define the loss function and optimizer\n",
    "criterion = nn.CrossEntropyLoss(weight = torch.tensor([0.5,1.0]).to(device))\n",
    "optimizer = optim.Adam(model.parameters(), lr=1e-4)\n",
    "# Define the learning rate scheduler\n",
    "scheduler = StepLR(optimizer, step_size=5, gamma=0.5)\n",
    "\n",
    "# Initialize a list to store the training losses\n",
    "train_losses = []\n",
    "\n",
    "# Training loop\n",
    "for epoch in range(15):\n",
    "    running_loss = 0.0\n",
    "    model.train()  # Set the model to training mode\n",
    "    for i, data in enumerate(train_dataloader, 0):\n",
    "        # Get the inputs and labels from the current batch of data\n",
    "        inputs, labels = data[0].to(device), data[1].to(device)\n",
    "        inputs = inputs.float()  # Convert the inputs to float\n",
    "        labels = labels.type(torch.LongTensor)   # Cast the labels to long\n",
    "        inputs, labels = inputs.to(device), labels.to(device)  # Move the inputs and labels to the device\n",
    "\n",
    "        # Zero the parameter gradients\n",
    "        optimizer.zero_grad()\n",
    "\n",
    "        # Forward pass\n",
    "        outputs = model(inputs)\n",
    "\n",
    "        # Compute the L1 norm of the model parameters\n",
    "        l1_lambda = 0.0005\n",
    "        l1_norm = sum(p.abs().sum() for p in model.parameters())\n",
    "\n",
    "        # Compute the loss\n",
    "        loss = criterion(outputs, labels)\n",
    "        loss += l1_lambda * l1_norm  # Add the L1 regularization term to the loss\n",
    "\n",
    "        # Backward pass and optimization\n",
    "        loss.backward()\n",
    "        optimizer.step()\n",
    "\n",
    "        # Update the running loss\n",
    "        running_loss += loss.item()\n",
    "\n",
    "        # Store the loss for this batch\n",
    "        train_losses.append(loss.item())\n",
    "\n",
    "    scheduler.step()\n",
    "    # Print the average training loss for this epoch\n",
    "    print(f'Epoch {epoch+1}, training loss: {running_loss/len(train_dataloader):.4f}')\n",
    "\n",
    "# Now train the model without L1 regularization\n",
    "optimizer = optim.Adam(model.parameters(), lr=5e-4)\n",
    "\n",
    "# Training loop\n",
    "for epoch in range(15):\n",
    "    running_loss = 0.0\n",
    "    model.train()  # Set the model to training mode\n",
    "    for i, data in enumerate(train_dataloader, 0):\n",
    "        # Get the inputs and labels from the current batch of data\n",
    "        inputs, labels = data[0].to(device), data[1].to(device)\n",
    "        inputs = inputs.float()  # Convert the inputs to float\n",
    "        labels = labels.type(torch.LongTensor)   # Cast the labels to long\n",
    "        inputs, labels = inputs.to(device), labels.to(device)  # Move the inputs and labels to the device\n",
    "\n",
    "        # Zero the parameter gradients\n",
    "        optimizer.zero_grad()\n",
    "\n",
    "        # Forward pass\n",
    "        outputs = model(inputs)\n",
    "\n",
    "        # Compute the loss\n",
    "        loss = criterion(outputs, labels)\n",
    "\n",
    "        # Backward pass and optimization\n",
    "        loss.backward()\n",
    "        optimizer.step()\n",
    "\n",
    "        # Update the running loss\n",
    "        running_loss += loss.item()\n",
    "\n",
    "        # Store the loss for this batch\n",
    "        train_losses.append(loss.item())\n",
    "\n",
    "    # Print the average training loss for this epoch\n",
    "    print(f'Epoch {epoch+1}, training loss: {running_loss/len(train_dataloader):.4f}')"
   ]
  },
  {
   "cell_type": "code",
   "execution_count": 85,
   "metadata": {},
   "outputs": [],
   "source": [
    "# Get the probability outputs\n",
    "class MyModel(nn.Module):\n",
    "    def __init__(self, original_model):\n",
    "        super(MyModel, self).__init__()\n",
    "        self.conv1 = original_model.conv1\n",
    "        self.fc1 = original_model.fc1\n",
    "        self.dropout = original_model.dropout\n",
    "        self.fc3 = original_model.fc3\n",
    "\n",
    "    def forward(self, x):\n",
    "        x = x.view(-1, 65, 256, 240)\n",
    "        x = F.max_pool2d(F.relu(self.conv1(x)), (2, 2))\n",
    "        x = x.view(x.size(0), -1)  # Flatten layer\n",
    "        x = F.relu(self.fc1(x))\n",
    "        x = self.dropout(x)\n",
    "        x = self.fc3(x)\n",
    "        return x\n",
    "\n",
    "# Create the new model\n",
    "new_model = MyModel(model)"
   ]
  },
  {
   "cell_type": "code",
   "execution_count": 88,
   "metadata": {},
   "outputs": [],
   "source": [
    "outputs = [] #stores one feature/value for each image for each patient.  Shape is (*,65).\n",
    "labels_train = []\n",
    "for data in train_dataloader:\n",
    "    input_data = data[0].float()\n",
    "    labels_train.append(data[1])\n",
    "    output = new_model(input_data.to(device))\n",
    "    outputs.append(output.detach().cpu().numpy()) \n",
    "flattened_outputs = np.concatenate(outputs, axis=0)\n",
    "flattened_labels = np.concatenate(labels_train, axis = 0)\n",
    "del outputs, output\n",
    "np.save('probs_train.npy', flattened_outputs)\n",
    "np.save('tr_labels.npy', flattened_labels)\n",
    "\n",
    "outputs = [] #stores one feature/value for each image for each patient.  Shape is (*,65).\n",
    "labels_val = []\n",
    "for data in valloader:\n",
    "    input_data = data[0].float()\n",
    "    labels_val.append(data[1])\n",
    "    output = new_model(input_data.to(device))\n",
    "    outputs.append(output.detach().cpu().numpy()) \n",
    "flattened_outputs = np.concatenate(outputs, axis=0)\n",
    "flattened_labels = np.concatenate(labels_val, axis = 0)\n",
    "del outputs, output\n",
    "np.save('probs_val.npy', flattened_outputs)\n",
    "np.save('val_labels.npy', flattened_labels)\n",
    "\n",
    "outputs = [] #stores one feature/value for each image for each patient.  Shape is (*,65).\n",
    "labels_train = []\n",
    "for data in testloader:\n",
    "    input_data = data.float()\n",
    "    output = new_model(input_data.to(device))\n",
    "    outputs.append(output.detach().cpu().numpy()) \n",
    "flattened_outputs = np.concatenate(outputs, axis=0)\n",
    "del outputs, output\n",
    "np.save('probs_test.npy', flattened_outputs)\n",
    "np.save('y_test.npy', y_test.astype(int))"
   ]
  },
  {
   "cell_type": "markdown",
   "metadata": {},
   "source": [
    "### Model 3 starts here"
   ]
  },
  {
   "cell_type": "code",
   "execution_count": 1,
   "metadata": {
    "scrolled": true
   },
   "outputs": [
    {
     "name": "stdout",
     "output_type": "stream",
     "text": [
      "Fitting 10 folds for each of 100 candidates, totalling 1000 fits\n",
      "Best parameters found:  {'reg_lambda': 1, 'reg_alpha': 0.1, 'n_estimators': 100, 'max_depth': 2, 'learning_rate': 0.01}\n",
      "[0]\tvalidation_0-logloss:0.68659\n",
      "[1]\tvalidation_0-logloss:0.68017\n",
      "[2]\tvalidation_0-logloss:0.67389\n",
      "[3]\tvalidation_0-logloss:0.66773\n",
      "[4]\tvalidation_0-logloss:0.66170\n",
      "[5]\tvalidation_0-logloss:0.65564\n",
      "[6]\tvalidation_0-logloss:0.64985\n",
      "[7]\tvalidation_0-logloss:0.64402\n",
      "[8]\tvalidation_0-logloss:0.63846\n",
      "[9]\tvalidation_0-logloss:0.63286\n",
      "[10]\tvalidation_0-logloss:0.62752\n",
      "[11]\tvalidation_0-logloss:0.62214\n",
      "[12]\tvalidation_0-logloss:0.61686\n",
      "[13]\tvalidation_0-logloss:0.61183\n",
      "[14]\tvalidation_0-logloss:0.60675\n",
      "[15]\tvalidation_0-logloss:0.60191\n",
      "[16]\tvalidation_0-logloss:0.59703\n",
      "[17]\tvalidation_0-logloss:0.59237\n",
      "[18]\tvalidation_0-logloss:0.58767\n",
      "[19]\tvalidation_0-logloss:0.58318\n",
      "[20]\tvalidation_0-logloss:0.57866\n",
      "[21]\tvalidation_0-logloss:0.57434\n",
      "[22]\tvalidation_0-logloss:0.56999\n",
      "[23]\tvalidation_0-logloss:0.56575\n",
      "[24]\tvalidation_0-logloss:0.56167\n",
      "[25]\tvalidation_0-logloss:0.55755\n",
      "[26]\tvalidation_0-logloss:0.55354\n",
      "[27]\tvalidation_0-logloss:0.54957\n",
      "[28]\tvalidation_0-logloss:0.54596\n",
      "[29]\tvalidation_0-logloss:0.54214\n",
      "[30]\tvalidation_0-logloss:0.53867\n",
      "[31]\tvalidation_0-logloss:0.53498\n",
      "[32]\tvalidation_0-logloss:0.53144\n",
      "[33]\tvalidation_0-logloss:0.52797\n",
      "[34]\tvalidation_0-logloss:0.52448\n",
      "[35]\tvalidation_0-logloss:0.52114\n",
      "[36]\tvalidation_0-logloss:0.51786\n",
      "[37]\tvalidation_0-logloss:0.51465\n",
      "[38]\tvalidation_0-logloss:0.51149\n",
      "[39]\tvalidation_0-logloss:0.50839\n",
      "[40]\tvalidation_0-logloss:0.50535\n",
      "[41]\tvalidation_0-logloss:0.50227\n",
      "[42]\tvalidation_0-logloss:0.49934\n",
      "[43]\tvalidation_0-logloss:0.49647\n",
      "[44]\tvalidation_0-logloss:0.49365\n",
      "[45]\tvalidation_0-logloss:0.49088\n",
      "[46]\tvalidation_0-logloss:0.48816\n",
      "[47]\tvalidation_0-logloss:0.48539\n",
      "[48]\tvalidation_0-logloss:0.48277\n"
     ]
    },
    {
     "name": "stderr",
     "output_type": "stream",
     "text": [
      "C:\\Users\\thetu\\anaconda3\\Lib\\site-packages\\xgboost\\sklearn.py:889: UserWarning: `eval_metric` in `fit` method is deprecated for better compatibility with scikit-learn, use `eval_metric` in constructor or`set_params` instead.\n",
      "  warnings.warn(\n"
     ]
    },
    {
     "name": "stdout",
     "output_type": "stream",
     "text": [
      "[49]\tvalidation_0-logloss:0.48020\n",
      "[50]\tvalidation_0-logloss:0.47768\n",
      "[51]\tvalidation_0-logloss:0.47520\n",
      "[52]\tvalidation_0-logloss:0.47266\n",
      "[53]\tvalidation_0-logloss:0.47018\n",
      "[54]\tvalidation_0-logloss:0.46783\n",
      "[55]\tvalidation_0-logloss:0.46553\n",
      "[56]\tvalidation_0-logloss:0.46327\n",
      "[57]\tvalidation_0-logloss:0.46105\n",
      "[58]\tvalidation_0-logloss:0.45878\n",
      "[59]\tvalidation_0-logloss:0.45664\n",
      "[60]\tvalidation_0-logloss:0.45455\n",
      "[61]\tvalidation_0-logloss:0.45249\n",
      "[62]\tvalidation_0-logloss:0.45064\n",
      "[63]\tvalidation_0-logloss:0.44855\n",
      "[64]\tvalidation_0-logloss:0.44677\n",
      "[65]\tvalidation_0-logloss:0.44476\n",
      "[66]\tvalidation_0-logloss:0.44304\n",
      "[67]\tvalidation_0-logloss:0.44110\n",
      "[68]\tvalidation_0-logloss:0.43945\n",
      "[69]\tvalidation_0-logloss:0.43758\n",
      "[70]\tvalidation_0-logloss:0.43599\n",
      "[71]\tvalidation_0-logloss:0.43418\n",
      "[72]\tvalidation_0-logloss:0.43266\n",
      "[73]\tvalidation_0-logloss:0.43091\n",
      "[74]\tvalidation_0-logloss:0.42945\n",
      "[75]\tvalidation_0-logloss:0.42776\n",
      "[76]\tvalidation_0-logloss:0.42636\n",
      "[77]\tvalidation_0-logloss:0.42472\n",
      "[78]\tvalidation_0-logloss:0.42338\n",
      "[79]\tvalidation_0-logloss:0.42180\n",
      "[80]\tvalidation_0-logloss:0.42051\n",
      "[81]\tvalidation_0-logloss:0.41899\n",
      "[82]\tvalidation_0-logloss:0.41775\n",
      "[83]\tvalidation_0-logloss:0.41629\n",
      "[84]\tvalidation_0-logloss:0.41488\n",
      "[85]\tvalidation_0-logloss:0.41347\n",
      "[86]\tvalidation_0-logloss:0.41233\n",
      "[87]\tvalidation_0-logloss:0.41096\n",
      "[88]\tvalidation_0-logloss:0.40987\n",
      "[89]\tvalidation_0-logloss:0.40855\n",
      "[90]\tvalidation_0-logloss:0.40751\n",
      "[91]\tvalidation_0-logloss:0.40624\n",
      "[92]\tvalidation_0-logloss:0.40523\n",
      "[93]\tvalidation_0-logloss:0.40400\n",
      "[94]\tvalidation_0-logloss:0.40304\n",
      "[95]\tvalidation_0-logloss:0.40189\n",
      "[96]\tvalidation_0-logloss:0.40073\n",
      "[97]\tvalidation_0-logloss:0.39983\n",
      "[98]\tvalidation_0-logloss:0.39871\n",
      "[99]\tvalidation_0-logloss:0.39786\n"
     ]
    }
   ],
   "source": [
    "import numpy as np\n",
    "from xgboost import XGBClassifier\n",
    "from sklearn.model_selection import train_test_split\n",
    "from sklearn.metrics import accuracy_score\n",
    "from imblearn.over_sampling import RandomOverSampler\n",
    "from sklearn.metrics import accuracy_score\n",
    "from sklearn.metrics import roc_auc_score\n",
    "from sklearn.metrics import confusion_matrix\n",
    "from sklearn.metrics import precision_recall_fscore_support as score\n",
    "\n",
    "# Load the training data\n",
    "X_train = np.load('probs_train.npy')\n",
    "y_train = np.load('tr_labels.npy')\n",
    "\n",
    "# Load the validation data\n",
    "X_val = np.load('probs_val.npy')\n",
    "y_val = np.load('val_labels.npy')\n",
    "\n",
    "# Load the test data\n",
    "X_test = np.load('probs_test.npy')\n",
    "y_test = np.load('y_test.npy')\n",
    "\n",
    "# Save the original np.load function\n",
    "np_load_old = np.load\n",
    "\n",
    "# Modify the default parameters of np.load to allow loading pickled data\n",
    "np.load = lambda *a,**k: np_load_old(*a, allow_pickle=True, **k)\n",
    "\n",
    "# Load the additional dataframes\n",
    "df_train = np.load('df_train.npy')\n",
    "df_validation = np.load('df_validation.npy')\n",
    "df_test = np.load('df_test.npy')\n",
    "\n",
    "# Restore np.load for future normal usage\n",
    "np.load = np_load_old\n",
    "\n",
    "# Convert the 'sex' column from string to int\n",
    "# 'M' is converted to 1 and 'F' is converted to 0\n",
    "df_train[:,0] = (df_train[:,0]=='M').astype(int)\n",
    "df_validation[:,0] = (df_validation[:,0]=='M').astype(int)\n",
    "df_test[:,0] = (df_test[:,0]=='M').astype(int)\n",
    "\n",
    "# Add the 'sex' and 'age' columns to your X_train, X_val, and X_test\n",
    "# This enriches the feature set with demographic information\n",
    "X_train = np.hstack((X_train, df_train[:,0:2]))\n",
    "X_val = np.hstack((X_val, df_validation[:,0:2]))\n",
    "X_test = np.hstack((X_test, df_test[:,0:2]))\n",
    "\n",
    "# Import the necessary library\n",
    "from sklearn.model_selection import RandomizedSearchCV\n",
    "\n",
    "# Set a seed for reproducibility\n",
    "np.random.seed(42)\n",
    "\n",
    "# Stack the training and validation data and labels\n",
    "data = np.vstack((X_train,X_val))\n",
    "labels = np.hstack((y_train,y_val))\n",
    "\n",
    "# Split the data into training and testing sets\n",
    "# The test size is 30% of the total data\n",
    "data_train, data_test, labels_train, labels_test = train_test_split(data, labels, test_size=0.2, random_state=42)\n",
    "\n",
    "# Calculate the ratio of negative to positive instances in the training data\n",
    "scale_pos_weight = sum(labels_train == 0) / sum(labels_train == 1)\n",
    "\n",
    "# Define the XGBoost model with the objective function for binary classification\n",
    "# The scale_pos_weight parameter helps handle class imbalance\n",
    "# Regularization is added through the 'reg_alpha' and 'reg_lambda' parameters\n",
    "model = XGBClassifier(\n",
    "    objective='binary:logistic',\n",
    "    scale_pos_weight = scale_pos_weight,\n",
    "    random_state=42,\n",
    "    reg_alpha = 0.1,  # L1 regularization term on weight (analogous to Lasso regression)\n",
    "    reg_lambda = 1  # L2 regularization term on weight (analogous to Ridge regression)\n",
    ")\n",
    "\n",
    "# Define the parameter grid for RandomSearch\n",
    "param_grid = {\n",
    "    'max_depth': [2, 3, 5, 7],  # Maximum depth of the trees\n",
    "    'learning_rate': [0.001, 0.002, 0.005, 0.01],  # Learning rate (eta)\n",
    "    'n_estimators': [50, 100, 200],  # Number of training rounds\n",
    "    'reg_alpha': [0.1, 0.5, 1],  # L1 regularization term on weight\n",
    "    'reg_lambda': [0.1, 0.5, 1]  # L2 regularization term on weight\n",
    "}\n",
    "\n",
    "# Initialize RandomSearch with the model, parameter grid, and other parameters\n",
    "random_search = RandomizedSearchCV(model, param_distributions=param_grid, n_iter=100, scoring='roc_auc', n_jobs=-1, cv=10, verbose=3)\n",
    "\n",
    "# Perform RandomSearch on the training data\n",
    "random_search.fit(data_train, labels_train)\n",
    "\n",
    "# Print the best parameters found by RandomSearch\n",
    "print(\"Best parameters found: \", random_search.best_params_)\n",
    "\n",
    "# Train the model with early stopping using the best found parameters\n",
    "model = random_search.best_estimator_\n",
    "eval_set = [(data_test, labels_test)]  # Validation set for early stopping\n",
    "model.fit(data_train, labels_train, eval_metric=\"logloss\", eval_set=eval_set)\n",
    "\n",
    "# Make predictions on the test set\n",
    "preds_prob = model.predict_proba(data_test)\n"
   ]
  },
  {
   "cell_type": "code",
   "execution_count": 2,
   "metadata": {},
   "outputs": [
    {
     "name": "stdout",
     "output_type": "stream",
     "text": [
      "Accuracy: 89.58%\n",
      "ROC AUC score: 0.8754098360655738\n",
      "Confusion matrix:\n",
      " [[58  3]\n",
      " [ 7 28]]\n",
      "Precision, Recall, Fscore: [0.89230769 0.90322581] [0.95081967 0.8       ] [0.92063492 0.84848485]\n"
     ]
    }
   ],
   "source": [
    "# Define a function to find the optimal threshold for classification\n",
    "def find_optimal_threshold(predictions, y_test):\n",
    "    min_sum = float('inf')\n",
    "    optimal_threshold = 0.5\n",
    "\n",
    "    # Iterate over possible thresholds from 0.3 to 0.8\n",
    "    for threshold in np.arange(0.3, 0.8, 0.001):\n",
    "        # Apply threshold to the second column of predictions\n",
    "        preds = (np.array(predictions)[:,1] > threshold).astype(int)\n",
    "\n",
    "        # Compute confusion matrix for the current threshold\n",
    "        cm = confusion_matrix(y_test, preds)\n",
    "\n",
    "        # Compute sum of off-diagonal elements\n",
    "        off_diagonal_sum = 164 - np.trace(cm)\n",
    "\n",
    "        # Update optimal threshold if this threshold is better\n",
    "        if off_diagonal_sum < min_sum and cm[1][1]/np.sum(cm[1]) >0.5:\n",
    "            min_sum = off_diagonal_sum\n",
    "            optimal_threshold = threshold\n",
    "\n",
    "    # Return the optimal threshold\n",
    "    return optimal_threshold\n",
    "\n",
    "# Find the optimal threshold for the test set predictions\n",
    "threshold = find_optimal_threshold(preds_prob, labels_test)\n",
    "\n",
    "# Uncomment the next few lines to print results for validation dataset\n",
    "# Apply the optimal threshold to the second column of the test set predictions\n",
    "preds = (preds_prob[:, 1]> threshold).astype(int)\n",
    "\n",
    "# Calculate and print the accuracy of the model\n",
    "accuracy = accuracy_score(labels_test, preds)\n",
    "print(\"Accuracy: %.2f%%\" % (accuracy * 100.0))\n",
    "\n",
    "# Calculate and print the ROC AUC score\n",
    "print(\"ROC AUC score:\", roc_auc_score(labels_test, preds))\n",
    "\n",
    "# Calculate and print the confusion matrix\n",
    "print(\"Confusion matrix:\\n\", confusion_matrix(labels_test, preds))\n",
    "\n",
    "# Calculate precision, recall, F1 score\n",
    "precision, recall, fscore, _ = score(labels_test, preds)\n",
    "print(\"Precision, Recall, Fscore:\", precision, recall, fscore)\n"
   ]
  },
  {
   "cell_type": "code",
   "execution_count": 3,
   "metadata": {},
   "outputs": [
    {
     "name": "stdout",
     "output_type": "stream",
     "text": [
      "Accuracy: 65.48%\n",
      "ROC AUC score: 0.5858186244674376\n",
      "Confusion matrix:\n",
      " [[45  8]\n",
      " [21 10]]\n",
      "Precision, Recall, Fscore: [0.68181818 0.55555556] [0.8490566  0.32258065] [0.75630252 0.40816327]\n"
     ]
    }
   ],
   "source": [
    "# Make predictions on the original test set\n",
    "pred_test = model.predict_proba(X_test)\n",
    "\n",
    "# Apply the optimal threshold to the second column of the original test set predictions\n",
    "preds = (pred_test[:, 1]> threshold).astype(int)\n",
    "\n",
    "# Calculate and print the accuracy of the model\n",
    "accuracy = accuracy_score(y_test, preds)\n",
    "print(\"Accuracy: %.2f%%\" % (accuracy * 100.0))\n",
    "\n",
    "# Calculate and print the ROC AUC score\n",
    "print(\"ROC AUC score:\", roc_auc_score(y_test, preds))\n",
    "\n",
    "# Calculate and print the confusion matrix\n",
    "print(\"Confusion matrix:\\n\", confusion_matrix(y_test, preds))\n",
    "\n",
    "# Calculate precision, recall, F1 score\n",
    "precision, recall, fscore, _ = score(y_test, preds)\n",
    "print(\"Precision, Recall, Fscore:\", precision, recall, fscore)"
   ]
  },
  {
   "cell_type": "code",
   "execution_count": 4,
   "metadata": {},
   "outputs": [
    {
     "data": {
      "image/png": "[encoded data removed]",
      "text/plain": [
       "<Figure size 640x480 with 1 Axes>"
      ]
     },
     "metadata": {},
     "output_type": "display_data"
    }
   ],
   "source": [
    "import matplotlib.pyplot as plt\n",
    "import seaborn as sns\n",
    "import pandas as pd\n",
    "\n",
    "# create the dataframe\n",
    "df = pd.DataFrame({\n",
    "    'c1': df_test[:,0],  \n",
    "    'c2': preds \n",
    "})\n",
    "# Convert 'c2' column to string type\n",
    "df['c2'] = df['c2'].astype(str)\n",
    "# Create a countplot\n",
    "sns.countplot(x='c1', hue='c2', data=df)\n",
    "# Replace the x-axis labels\n",
    "plt.xticks([0, 1], ['M', 'F'])\n",
    "\n",
    "# Show the plot\n",
    "plt.show()"
   ]
  },
  {
   "cell_type": "code",
   "execution_count": null,
   "metadata": {},
   "outputs": [],
   "source": []
  },
  {
   "cell_type": "code",
   "execution_count": null,
   "metadata": {},
   "outputs": [],
   "source": []
  },
  {
   "cell_type": "code",
   "execution_count": null,
   "metadata": {},
   "outputs": [],
   "source": []
  }
 ],
 "metadata": {
  "kaggle": {
   "accelerator": "nvidiaTeslaT4",
   "dataSources": [
    {
     "databundleVersionId": 8209069,
     "datasetId": 4773921,
     "sourceId": 8092331,
     "sourceType": "datasetVersion"
    }
   ],
   "dockerImageVersionId": 30683,
   "isGpuEnabled": true,
   "isInternetEnabled": true,
   "language": "python",
   "sourceType": "notebook"
  },
  "kernelspec": {
   "display_name": "Python 3 (ipykernel)",
   "language": "python",
   "name": "python3"
  },
  "language_info": {
   "codemirror_mode": {
    "name": "ipython",
    "version": 3
   },
   "file_extension": ".py",
   "mimetype": "text/x-python",
   "name": "python",
   "nbconvert_exporter": "python",
   "pygments_lexer": "ipython3",
   "version": "3.11.7"
  }
 },
 "nbformat": 4,
 "nbformat_minor": 4
}
