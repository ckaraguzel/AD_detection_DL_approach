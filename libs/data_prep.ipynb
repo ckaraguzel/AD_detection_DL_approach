{
 "cells": [
  {
   "cell_type": "code",
   "execution_count": 1,
   "metadata": {},
   "outputs": [],
   "source": [
    "import pandas as pd\n",
    "import numpy as np\n",
    "import os\n",
    "from data_prep import *"
   ]
  },
  {
   "cell_type": "code",
   "execution_count": 21,
   "metadata": {},
   "outputs": [],
   "source": [
    "df_AD = pd.read_csv(\"../All_AD_3loc_T1_axial_3_26_2024.csv\")\n",
    "new_df_AD= remove_duplicates(df_AD)\n",
    "\n",
    "data_folder = \"../data-ADNI/All_AD_3loc_T1_axial/ADNI\"  \n",
    "data_paths = get_filtrated_data_paths(data_folder, new_df_AD[\"Image Data ID\"].tolist())\n",
    "\n",
    "new_folder_path = \"../data-ADNI/AD\"\n",
    "save_images_to_new_folder(data_paths, new_folder_path)"
   ]
  },
  {
   "cell_type": "code",
   "execution_count": 37,
   "metadata": {},
   "outputs": [],
   "source": [
    "df_CN = pd.read_csv(\"../All_CN_3loc_T1_axial_3_26_2024.csv\")\n",
    "new_df_CN= remove_duplicates(df_CN)\n",
    "\n",
    "data_folder_CN = \"../data-ADNI/All_CN_3loc_T1_axial\"\n",
    "data_paths_CN = get_filtrated_data_paths(data_folder_CN, new_df_CN[\"Image Data ID\"].tolist())\n",
    "\n",
    "new_folder_path_CN = \"../data-ADNI/CN\"\n",
    "\n",
    "save_images_to_new_folder(data_paths_CN, new_folder_path_CN)"
   ]
  },
  {
   "cell_type": "code",
   "execution_count": 38,
   "metadata": {},
   "outputs": [],
   "source": [
    "df_MCI = pd.read_csv(\"../All_MCI_3loc_T1_axial_3_26_2024.csv\")\n",
    "new_df_MCI= remove_duplicates(df_MCI)\n",
    "\n",
    "data_folder_MCI = \"../data-ADNI/All_MCI_3loc_T1_axial\"\n",
    "data_paths_MCI = get_filtrated_data_paths(data_folder_MCI, new_df_MCI[\"Image Data ID\"].tolist())\n",
    "\n",
    "new_folder_path_MCI = \"../data-ADNI/MCI\"\n",
    "\n",
    "save_images_to_new_folder(data_paths_MCI, new_folder_path_MCI)"
   ]
  }
 ],
 "metadata": {
  "kernelspec": {
   "display_name": ".venv",
   "language": "python",
   "name": "python3"
  },
  "language_info": {
   "codemirror_mode": {
    "name": "ipython",
    "version": 3
   },
   "file_extension": ".py",
   "mimetype": "text/x-python",
   "name": "python",
   "nbconvert_exporter": "python",
   "pygments_lexer": "ipython3",
   "version": "3.12.1"
  }
 },
 "nbformat": 4,
 "nbformat_minor": 2
}
